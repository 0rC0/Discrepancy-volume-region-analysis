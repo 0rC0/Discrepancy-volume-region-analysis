{
 "cells": [
  {
   "cell_type": "markdown",
   "metadata": {},
   "source": [
    "# Normalization dr-masks"
   ]
  },
  {
   "cell_type": "markdown",
   "metadata": {},
   "source": [
    "#Transformation Matrix from icv masks normalization are used to normalize dr-labels"
   ]
  },
  {
   "cell_type": "code",
   "execution_count": null,
   "metadata": {
    "collapsed": false
   },
   "outputs": [],
   "source": [
    "from nipype.interfaces import fsl\n",
    "import os"
   ]
  },
  {
   "cell_type": "code",
   "execution_count": null,
   "metadata": {
    "collapsed": true
   },
   "outputs": [],
   "source": [
    "output_dir = './Praktikum/dr-masks_normalized'\n",
    "ref_file = '/usr/share/data/fsl-mni152-templates/MNI152_T1_1mm_brain.nii.gz'\n",
    "matrices_dir = './Praktikum/Pincram_all_icv_normalized'\n",
    "dr_labels_dir = './Praktikum/dr_labels'"
   ]
  },
  {
   "cell_type": "code",
   "execution_count": null,
   "metadata": {
    "collapsed": false,
    "scrolled": true
   },
   "outputs": [],
   "source": [
    "sub_ids = [ f.split('.')[0] for f in os.listdir(dr_labels_dir) if f.endswith('.nii.gz')]\n",
    "sub_ids"
   ]
  },
  {
   "cell_type": "code",
   "execution_count": null,
   "metadata": {
    "collapsed": false,
    "scrolled": true
   },
   "outputs": [],
   "source": [
    "for sub_id in sub_ids:\n",
    "    print('--- {0} ---'.format(sub_id))\n",
    "    flt = fsl.FLIRT(bins=640, cost_func='mutualinfo')\n",
    "    flt.inputs.in_file = os.path.join(dr_labels_dir, sub_id + '.nii.gz')\n",
    "    flt.inputs.reference = ref_file\n",
    "    flt.inputs.in_matrix_file = os.path.join(matrices_dir, sub_id + '.mat')\n",
    "    flt.inputs.out_file = os.path.join(output_dir, sub_id + '.nii.gz')\n",
    "    flt.inputs.out_matrix_file = os.path.join(output_dir, sub_id + '.mat')\n",
    "    print(flt.cmdline)\n",
    "    res = flt.run()"
   ]
  },
  {
   "cell_type": "markdown",
   "metadata": {},
   "source": [
    "# Sum patients with dementia and control patients"
   ]
  },
  {
   "cell_type": "code",
   "execution_count": null,
   "metadata": {
    "collapsed": true
   },
   "outputs": [],
   "source": [
    "import pandas as pd"
   ]
  },
  {
   "cell_type": "code",
   "execution_count": null,
   "metadata": {
    "collapsed": true
   },
   "outputs": [],
   "source": [
    "df = pd.read_excel('~/Downloads/diagnose.xlsx')\n",
    "df.columns = ['id', 'diagnose', 'note']"
   ]
  },
  {
   "cell_type": "code",
   "execution_count": null,
   "metadata": {
    "collapsed": true,
    "scrolled": true
   },
   "outputs": [],
   "source": [
    "df['num'] = df['id'].apply(lambda x: x[8:12])"
   ]
  },
  {
   "cell_type": "code",
   "execution_count": null,
   "metadata": {
    "collapsed": false
   },
   "outputs": [],
   "source": [
    "df"
   ]
  },
  {
   "cell_type": "code",
   "execution_count": null,
   "metadata": {
    "collapsed": true
   },
   "outputs": [],
   "source": [
    "# Diagnose (0=HC, 1=MCI oder 2=AD) \t\n",
    "control = df[df.diagnose == 0][['id', 'diagnose', 'num']]\n",
    "mci = df[df.diagnose == 1][['id', 'diagnose', 'num']]\n",
    "ad = df[df.diagnose == 2][['id', 'diagnose', 'num']]"
   ]
  },
  {
   "cell_type": "markdown",
   "metadata": {},
   "source": [
    "# Help Functions"
   ]
  },
  {
   "cell_type": "code",
   "execution_count": null,
   "metadata": {
    "collapsed": true
   },
   "outputs": [],
   "source": [
    "def sum_voxels(img ,coord):\n",
    "    # given a set of 1 voxel, sum it \n",
    "    data = img.get_data()\n",
    "    for t in coord:\n",
    "        x,y,z = t\n",
    "        data[x,y,z] += 1\n",
    "    #nib.save(img, dest)\n",
    "    \n",
    "def non_zero_voxels(img):\n",
    "    # return a tuple of coordinates von voxel != 0\n",
    "    x_dim, y_dim, z_dim = img.shape[0:3]\n",
    "    data = img.get_data()\n",
    "    l = []\n",
    "    for x in range(x_dim):\n",
    "        for y in range(y_dim):\n",
    "            for z in range(z_dim):\n",
    "                if data[x,y,z] != 0:\n",
    "                    l.append((x,y,z))\n",
    "    return tuple(l)"
   ]
  },
  {
   "cell_type": "markdown",
   "metadata": {},
   "source": [
    "# SUM masks from control UNI images"
   ]
  },
  {
   "cell_type": "code",
   "execution_count": null,
   "metadata": {
    "collapsed": false,
    "scrolled": true
   },
   "outputs": [],
   "source": [
    "import nibabel as nib\n",
    "import os\n",
    "dest_file_name = 'control_UNI_sum.nii'\n",
    "dest_path = './Praktikum/dr-masks_sum'\n",
    "norm_masks_dir = './Praktikum/dr-masks_normalized'\n",
    "dest = os.path.join(dest_path, dest_file_name)\n",
    "suffix = '_UNI.nii.gz'\n",
    "counter = 0\n",
    "first = True\n",
    "patients = len(control_nums)\n",
    "for num in control_nums:\n",
    "    img = os.path.join(norm_masks_dir, num + suffix)\n",
    "    if first:\n",
    "        print(img)\n",
    "        mask = nib.load(img)\n",
    "        first = False\n",
    "    else:\n",
    "        if os.path.isfile(img):\n",
    "            print(nii)\n",
    "            nii = nib.load(img)\n",
    "            coord = non_zero_voxels(nii)\n",
    "            sum_voxels(mask, coord)\n",
    "nib.save(mask, dest)"
   ]
  },
  {
   "cell_type": "markdown",
   "metadata": {},
   "source": [
    "# Mean"
   ]
  },
  {
   "cell_type": "code",
   "execution_count": null,
   "metadata": {
    "collapsed": true
   },
   "outputs": [],
   "source": [
    "sum_file_name = 'control_UNI_sum.nii'\n",
    "dest_path = './Praktikum/dr-masks_sum'\n",
    "sum_file = os.path.join(dest_path, sum_file_name)\n",
    "mean_filename = 'control_UNI_mean.nii'\n",
    "patients = len(control_nums)\n",
    "dest = os.path.join(dest_path, mean_filename)\n",
    "nii = nib.load(sum_file)\n",
    "x_dim, y_dim, z_dim = nii.shape[0:3]\n",
    "data = nii.get_data()\n",
    "l = []\n",
    "for x in range(x_dim):\n",
    "    for y in range(y_dim):\n",
    "        for z in range(z_dim):\n",
    "            if data[x,y,z] != 0:\n",
    "                d = data[x,y,z]/patients\n",
    "                data[x,y,z] = 0 if d<=0.5 else 1\n",
    "nib.save(nii, dest)"
   ]
  },
  {
   "cell_type": "code",
   "execution_count": null,
   "metadata": {
    "collapsed": false,
    "scrolled": true
   },
   "outputs": [],
   "source": [
    "# Sum mask for AD\n",
    "ad = df[df.diagnose == 2][['id', 'diagnose', 'num']]\n",
    "ad_nums = ad.num\n",
    "ad_nums\n",
    "dest_file_name = 'ad_UNI_sum.nii'\n",
    "dest_path = './Praktikum/dr-masks_sum'\n",
    "norm_masks_dir = './Praktikum/dr-masks_normalized'\n",
    "dest = os.path.join(dest_path, dest_file_name)\n",
    "suffix = '_UNI.nii.gz'\n",
    "counter = 0\n",
    "first = True\n",
    "patients = len(ad_nums)\n",
    "for num in ad_nums:\n",
    "    img = os.path.join(norm_masks_dir, num + suffix)\n",
    "    if first:\n",
    "        print(img)\n",
    "        mask = nib.load(img)\n",
    "        first = False\n",
    "    else:\n",
    "        if os.path.isfile(img):\n",
    "            print(nii)\n",
    "            nii = nib.load(img)\n",
    "            coord = non_zero_voxels(nii)\n",
    "            sum_voxels(mask, coord)\n",
    "nib.save(mask, dest)"
   ]
  },
  {
   "cell_type": "code",
   "execution_count": null,
   "metadata": {
    "collapsed": true
   },
   "outputs": [],
   "source": [
    "# Mean\n",
    "sum_file_name = 'ad_UNI_sum.nii'\n",
    "dest_path = './Praktikum/dr-masks_sum'\n",
    "sum_file = os.path.join(dest_path, sum_file_name)\n",
    "mean_filename = 'ad_UNI_mean.nii'\n",
    "patients = len(ad_nums)\n",
    "dest = os.path.join(dest_path, mean_filename)\n",
    "nii = nib.load(sum_file)\n",
    "x_dim, y_dim, z_dim = nii.shape[0:3]\n",
    "data = nii.get_data()\n",
    "l = []\n",
    "for x in range(x_dim):\n",
    "    for y in range(y_dim):\n",
    "        for z in range(z_dim):\n",
    "            if data[x,y,z] != 0:\n",
    "                d = data[x,y,z]/patients\n",
    "                data[x,y,z] = 0 if d<=0.5 else 1\n",
    "nib.save(nii, dest)"
   ]
  },
  {
   "cell_type": "code",
   "execution_count": null,
   "metadata": {
    "collapsed": true
   },
   "outputs": [],
   "source": [
    "# Subtract\n",
    "file_path = './Praktikum/dr-masks_sum'\n",
    "ad_file_name = 'ad_UNI_mean.nii'\n",
    "control_file_name = 'control_UNI_mean.nii'\n",
    "dest_filename = 'ad_control_UNI_diff.nii'\n",
    "ad_file = os.path.join(file_path, ad_file_name)\n",
    "control_file = os.path.join(file_path, control_file_name)\n",
    "dest = os.path.join(dest_path, dest_filename)\n",
    "control = nib.load(control_file)\n",
    "ad = nib.load(ad_file)\n",
    "x_dim, y_dim, z_dim = control.shape[0:3] # they should be the same\n",
    "control_data = control.get_data()\n",
    "ad_data = ad.get_data()\n",
    "l = []\n",
    "for x in range(x_dim):\n",
    "    for y in range(y_dim):\n",
    "        for z in range(z_dim):\n",
    "                control_data[x,y,z] = ad_data[x,y,z] - control_data[x,y,z]\n",
    "nib.save(control, dest)"
   ]
  },
  {
   "cell_type": "code",
   "execution_count": null,
   "metadata": {
    "collapsed": false,
    "scrolled": true
   },
   "outputs": [],
   "source": [
    "control = df[df.diagnose == 0][['id', 'diagnose', 'num']]\n",
    "# SUM masks from control UNI_DEN images\n",
    "import nibabel as nib\n",
    "import os\n",
    "dest_file_name = 'control_UNI_DEN_sum.nii'\n",
    "dest_path = './Praktikum/dr-masks_sum'\n",
    "norm_masks_dir = './Praktikum/dr-masks_normalized'\n",
    "dest = os.path.join(dest_path, dest_file_name)\n",
    "suffix = '_UNI_DEN.nii.gz'\n",
    "counter = 0\n",
    "first = True\n",
    "patients = len(control_nums)\n",
    "for num in control_nums:\n",
    "    img = os.path.join(norm_masks_dir, num + suffix)\n",
    "    if first:\n",
    "        print(img)\n",
    "        mask = nib.load(img)\n",
    "        first = False\n",
    "    else:\n",
    "        if os.path.isfile(img):\n",
    "            print(nii)\n",
    "            nii = nib.load(img)\n",
    "            coord = non_zero_voxels(nii)\n",
    "            sum_voxels(mask, coord)\n",
    "nib.save(mask, dest)\n",
    "# Mean\n",
    "sum_file_name = 'control_UNI_DEN_sum.nii'\n",
    "dest_path = './Praktikum/dr-masks_sum'\n",
    "sum_file = os.path.join(dest_path, sum_file_name)\n",
    "mean_filename = 'control_UNI_DEN_mean.nii'\n",
    "patients = len(control_nums)\n",
    "dest = os.path.join(dest_path, mean_filename)\n",
    "nii = nib.load(sum_file)\n",
    "x_dim, y_dim, z_dim = nii.shape[0:3]\n",
    "data = nii.get_data()\n",
    "l = []\n",
    "for x in range(x_dim):\n",
    "    for y in range(y_dim):\n",
    "        for z in range(z_dim):\n",
    "            if data[x,y,z] != 0:\n",
    "                d = data[x,y,z]/patients\n",
    "                data[x,y,z] = 0 if d<=0.5 else 1\n",
    "nib.save(nii, dest)\n"
   ]
  },
  {
   "cell_type": "code",
   "execution_count": null,
   "metadata": {
    "collapsed": false
   },
   "outputs": [],
   "source": [
    "# Sum mask for AD\n",
    "ad = df[df.diagnose == 2][['id', 'diagnose', 'num']]\n",
    "ad_nums = ad.num\n",
    "ad_nums\n",
    "dest_file_name = 'ad_UNI_DEN_sum.nii'\n",
    "dest_path = './Praktikum/dr-masks_sum'\n",
    "norm_masks_dir = './Praktikum/dr-masks_normalized'\n",
    "dest = os.path.join(dest_path, dest_file_name)\n",
    "suffix = '_UNI_DEN.nii.gz'\n",
    "counter = 0\n",
    "first = True\n",
    "patients = len(ad_nums)\n",
    "for num in ad_nums:\n",
    "    img = os.path.join(norm_masks_dir, num + suffix)\n",
    "    if first:\n",
    "        print(img)\n",
    "        mask = nib.load(img)\n",
    "        first = False\n",
    "    else:\n",
    "        if os.path.isfile(img):\n",
    "            print(nii)\n",
    "            nii = nib.load(img)\n",
    "            coord = non_zero_voxels(nii)\n",
    "            sum_voxels(mask, coord)\n",
    "nib.save(mask, dest)\n",
    "# Mean\n",
    "sum_file_name = 'ad_UNI_DEN_sum.nii'\n",
    "dest_path = './Praktikum/dr-masks_sum'\n",
    "sum_file = os.path.join(dest_path, sum_file_name)\n",
    "mean_filename = 'ad_UNI_DEN_mean.nii'\n",
    "patients = len(ad_nums)\n",
    "dest = os.path.join(dest_path, mean_filename)\n",
    "nii = nib.load(sum_file)\n",
    "x_dim, y_dim, z_dim = nii.shape[0:3]\n",
    "data = nii.get_data()\n",
    "l = []\n",
    "for x in range(x_dim):\n",
    "    for y in range(y_dim):\n",
    "        for z in range(z_dim):\n",
    "            if data[x,y,z] != 0:\n",
    "                d = data[x,y,z]/patients\n",
    "                data[x,y,z] = 0 if d<=0.5 else 1\n",
    "nib.save(nii, dest)"
   ]
  },
  {
   "cell_type": "code",
   "execution_count": null,
   "metadata": {
    "collapsed": true
   },
   "outputs": [],
   "source": [
    "# Subtract\n",
    "file_path = './Praktikum/dr-masks_sum'\n",
    "ad_file_name = 'ad_UNI_DEN_mean.nii'\n",
    "control_file_name = 'control_UNI_DEN_mean.nii'\n",
    "dest_filename = 'ad_control_UNI_DEN_diff.nii'\n",
    "ad_file = os.path.join(file_path, ad_file_name)\n",
    "control_file = os.path.join(file_path, control_file_name)\n",
    "dest = os.path.join(dest_path, dest_filename)\n",
    "control = nib.load(control_file)\n",
    "ad = nib.load(ad_file)\n",
    "x_dim, y_dim, z_dim = control.shape[0:3] # they should be the same\n",
    "control_data = control.get_data()\n",
    "ad_data = ad.get_data()\n",
    "l = []\n",
    "for x in range(x_dim):\n",
    "    for y in range(y_dim):\n",
    "        for z in range(z_dim):\n",
    "                control_data[x,y,z] = ad_data[x,y,z] - control_data[x,y,z]\n",
    "nib.save(control, dest)"
   ]
  },
  {
   "cell_type": "code",
   "execution_count": null,
   "metadata": {
    "collapsed": true
   },
   "outputs": [],
   "source": [
    "# Same for  MCI patients"
   ]
  },
  {
   "cell_type": "code",
   "execution_count": null,
   "metadata": {
    "collapsed": false,
    "scrolled": true
   },
   "outputs": [],
   "source": [
    "mci = df[df.diagnose == 1][['id', 'diagnose', 'num']]\n",
    "mci_nums = mci.num\n",
    "mci_nums\n",
    "dest_file_name = 'mci_UNI_sum.nii'\n",
    "dest_path = './Praktikum/dr-masks_sum'\n",
    "norm_masks_dir = './Praktikum/dr-masks_normalized'\n",
    "dest = os.path.join(dest_path, dest_file_name)\n",
    "suffix = '_UNI.nii.gz'\n",
    "counter = 0\n",
    "first = True\n",
    "patients = len(mci_nums)\n",
    "for num in mci_nums:\n",
    "    img = os.path.join(norm_masks_dir, num + suffix)\n",
    "    if first:\n",
    "        print(img)\n",
    "        mask = nib.load(img)\n",
    "        first = False\n",
    "    else:\n",
    "        if os.path.isfile(img):\n",
    "            print(nii)\n",
    "            nii = nib.load(img)\n",
    "            coord = non_zero_voxels(nii)\n",
    "            sum_voxels(mask, coord)\n",
    "nib.save(mask, dest)\n",
    "\n",
    "# Mean\n",
    "sum_file_name = 'mci_UNI_sum.nii'\n",
    "dest_path = './Praktikum/dr-masks_sum'\n",
    "sum_file = os.path.join(dest_path, sum_file_name)\n",
    "mean_filename = 'mci_UNI_mean.nii'\n",
    "patients = len(mci_nums)\n",
    "dest = os.path.join(dest_path, mean_filename)\n",
    "nii = nib.load(sum_file)\n",
    "x_dim, y_dim, z_dim = nii.shape[0:3]\n",
    "data = nii.get_data()\n",
    "l = []\n",
    "for x in range(x_dim):\n",
    "    for y in range(y_dim):\n",
    "        for z in range(z_dim):\n",
    "            if data[x,y,z] != 0:\n",
    "                d = data[x,y,z]/patients\n",
    "                data[x,y,z] = 0 if d<=0.5 else 1\n",
    "nib.save(nii, dest)\n",
    "\n",
    "# Subtract\n",
    "file_path = './Praktikum/dr-masks_sum'\n",
    "mci_file_name = 'mci_UNI_mean.nii'\n",
    "control_file_name = 'control_UNI_mean.nii'\n",
    "dest_filename = 'mci_control_UNI_diff.nii'\n",
    "mci_file = os.path.join(file_path, mci_file_name)\n",
    "control_file = os.path.join(file_path, control_file_name)\n",
    "dest = os.path.join(dest_path, dest_filename)\n",
    "control = nib.load(control_file)\n",
    "mci = nib.load(mci_file)\n",
    "x_dim, y_dim, z_dim = control.shape[0:3] # they should be the same\n",
    "control_data = control.get_data()\n",
    "mci_data = mci.get_data()\n",
    "l = []\n",
    "for x in range(x_dim):\n",
    "    for y in range(y_dim):\n",
    "        for z in range(z_dim):\n",
    "                control_data[x,y,z] = mci_data[x,y,z] - control_data[x,y,z]\n",
    "nib.save(control, dest)"
   ]
  },
  {
   "cell_type": "code",
   "execution_count": null,
   "metadata": {
    "collapsed": false,
    "scrolled": true
   },
   "outputs": [],
   "source": [
    "mci = df[df.diagnose == 1][['id', 'diagnose', 'num']]\n",
    "mci_nums = mci.num\n",
    "mci_nums\n",
    "dest_file_name = 'mci_UNI_DEN_sum.nii'\n",
    "dest_path = './Praktikum/dr-masks_sum'\n",
    "norm_masks_dir = './Praktikum/dr-masks_normalized'\n",
    "dest = os.path.join(dest_path, dest_file_name)\n",
    "suffix = '_UNI_DEN.nii.gz'\n",
    "counter = 0\n",
    "first = True\n",
    "patients = len(mci_nums)\n",
    "for num in mci_nums:\n",
    "    img = os.path.join(norm_masks_dir, num + suffix)\n",
    "    if first:\n",
    "        print(img)\n",
    "        mask = nib.load(img)\n",
    "        first = False\n",
    "    else:\n",
    "        if os.path.isfile(img):\n",
    "            print(nii)\n",
    "            nii = nib.load(img)\n",
    "            coord = non_zero_voxels(nii)\n",
    "            sum_voxels(mask, coord)\n",
    "nib.save(mask, dest)\n",
    "\n",
    "# Mean\n",
    "sum_file_name = 'mci_UNI_DEN_sum.nii'\n",
    "dest_path = './Praktikum/dr-masks_sum'\n",
    "sum_file = os.path.join(dest_path, sum_file_name)\n",
    "mean_filename = 'mci_UNI_DEN_mean.nii'\n",
    "patients = len(mci_nums)\n",
    "dest = os.path.join(dest_path, mean_filename)\n",
    "nii = nib.load(sum_file)\n",
    "x_dim, y_dim, z_dim = nii.shape[0:3]\n",
    "data = nii.get_data()\n",
    "l = []\n",
    "for x in range(x_dim):\n",
    "    for y in range(y_dim):\n",
    "        for z in range(z_dim):\n",
    "            if data[x,y,z] != 0:\n",
    "                d = data[x,y,z]/patients\n",
    "                data[x,y,z] = 0 if d<=0.5 else 1\n",
    "nib.save(nii, dest)\n",
    "\n",
    "# Subtract\n",
    "file_path = './Praktikum/dr-masks_sum'\n",
    "mci_file_name = 'mci_UNI_DEN_mean.nii'\n",
    "control_file_name = 'control_UNI_DEN_mean.nii'\n",
    "dest_filename = 'mci_control_UNI_DEN_diff.nii'\n",
    "mci_file = os.path.join(file_path, mci_file_name)\n",
    "control_file = os.path.join(file_path, control_file_name)\n",
    "dest = os.path.join(dest_path, dest_filename)\n",
    "control = nib.load(control_file)\n",
    "mci = nib.load(mci_file)\n",
    "x_dim, y_dim, z_dim = control.shape[0:3] # they should be the same\n",
    "control_data = control.get_data()\n",
    "mci_data = mci.get_data()\n",
    "l = []\n",
    "for x in range(x_dim):\n",
    "    for y in range(y_dim):\n",
    "        for z in range(z_dim):\n",
    "                control_data[x,y,z] = mci_data[x,y,z] - control_data[x,y,z]\n",
    "nib.save(control, dest)"
   ]
  },
  {
   "cell_type": "code",
   "execution_count": null,
   "metadata": {
    "collapsed": true
   },
   "outputs": [],
   "source": []
  }
 ],
 "metadata": {
  "kernelspec": {
   "display_name": "Python 3",
   "language": "python",
   "name": "python3"
  },
  "language_info": {
   "codemirror_mode": {
    "name": "ipython",
    "version": 3
   },
   "file_extension": ".py",
   "mimetype": "text/x-python",
   "name": "python",
   "nbconvert_exporter": "python",
   "pygments_lexer": "ipython3",
   "version": "3.5.3"
  }
 },
 "nbformat": 4,
 "nbformat_minor": 2
}
